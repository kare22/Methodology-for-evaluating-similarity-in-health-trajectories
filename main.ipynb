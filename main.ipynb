{
 "cells": [
  {
   "cell_type": "code",
   "execution_count": null,
   "id": "d0335573",
   "metadata": {},
   "outputs": [],
   "source": [
    "import platform\n",
    "\n",
    "print('You are using the recommended version for this script!' \n",
    "      if platform.python_version() == '3.9.6' else \n",
    "      'You are not using the recommended version for this script!')"
   ]
  },
  {
   "cell_type": "code",
   "execution_count": null,
   "id": "2a2cf584",
   "metadata": {},
   "outputs": [],
   "source": [
    "from tqdm import tqdm\n",
    "import ast\n",
    "import itertools"
   ]
  },
  {
   "cell_type": "code",
   "execution_count": null,
   "id": "cf2cd94a",
   "metadata": {},
   "outputs": [],
   "source": [
    "### Functions for getting data from files\n",
    "\n",
    "## Get raw data from file\n",
    "def get_data_from_file(file_name):\n",
    "    file = open(file_name)\n",
    "    content = file.read()\n",
    "    lines = content.split('\\n')\n",
    "    file.close()\n",
    "    \n",
    "    return lines\n",
    "     \n",
    "        \n",
    "## Get sections (default file name is diagnoses.csv)\n",
    "def get_sections(file_name = 'diagnoses.csv'):\n",
    "    person_sections = dict()\n",
    "    lines = get_data_from_file(file_name)\n",
    "    for (index, line) in enumerate(lines):\n",
    "        cols = line.split('\\t')\n",
    "        if index == 0 or len(cols) <= 1: #Ignore title row and empty rows\n",
    "            continue\n",
    "        sections = ast.literal_eval(cols[-2])\n",
    "        person_sections[cols[0]] = sections\n",
    "        \n",
    "    return person_sections"
   ]
  },
  {
   "cell_type": "code",
   "execution_count": null,
   "id": "8429ab2c",
   "metadata": {},
   "outputs": [],
   "source": [
    "### Create containers for data\n",
    "\n",
    "## Trajectories used in generating the data\n",
    "from trajectories import get_control_trajectories\n",
    "control_trajectories = get_control_trajectories()\n",
    "\n",
    "## patient disease trajectories\n",
    "sections = get_sections()"
   ]
  },
  {
   "cell_type": "code",
   "execution_count": null,
   "id": "411e8906",
   "metadata": {},
   "outputs": [],
   "source": [
    "### Functions for comparing trajectories\n",
    "\n",
    "## Local alignment\n",
    "from local_alignment import get_local_alignment"
   ]
  },
  {
   "cell_type": "code",
   "execution_count": null,
   "id": "d855f3cb",
   "metadata": {},
   "outputs": [],
   "source": [
    "### Function for geting similar trajectories inside sections, with helper functions\n",
    "\n",
    "## Get the count of how many times a diagnose exists within the data\n",
    "def get_counts(persons):\n",
    "    counts = {}\n",
    "    if len(persons.keys()):\n",
    "        for p in persons:\n",
    "            for diagnose in persons[p]:\n",
    "                try:\n",
    "                    counts[diagnose[0]] += 1\n",
    "                except:\n",
    "                    counts[diagnose[0]] = 1\n",
    "    return counts\n",
    "\n",
    "## Create a list that has all the significant diagnoses\n",
    "def create_motive(counts, min, max):\n",
    "    motive = []\n",
    "    for count in counts:\n",
    "        if counts[count] >= min and counts[count] <= max:\n",
    "            motive.append(count)\n",
    "\n",
    "    return motive\n",
    "\n",
    "## Filter out diagnoses that are not included in the motive\n",
    "def find_most_frequently_used_together_diagnoses(persons, motive):\n",
    "    trajectories = []\n",
    "    for p in persons:\n",
    "        trajectory = []\n",
    "        for diagnose in persons[p]:\n",
    "            if diagnose[0] in motive:\n",
    "                trajectory.append(diagnose[0])\n",
    "        trajectories.append(trajectory)\n",
    "    return trajectories\n",
    "\n",
    "# Find the most common people by comparing everybody against everybody\n",
    "def cluster_trajectories(trajectories):\n",
    "    clusters = {}\n",
    "    for (i, t1) in enumerate(tqdm(trajectories, desc=\"Started clustering\")):\n",
    "        for (j, t2) in enumerate(trajectories):\n",
    "            if i != j:\n",
    "                if get_local_alignment(t1, t2) >= 5:\n",
    "                    try:\n",
    "                        clusters[i] += [t2]\n",
    "                    except:\n",
    "                        clusters[i] = [t2]\n",
    "    clusters = {k:v for (k,v) in clusters.items() if len(v) >= 6}\n",
    "\n",
    "    return clusters\n",
    "\n",
    "## Remove diagnoses that have no significance from trajectories\n",
    "def clean_clusters_trajectories(clusters, trajectories):\n",
    "    clean_trajectories = {}\n",
    "    for c in clusters:\n",
    "        trajectory = trajectories[c]\n",
    "        scores = {}\n",
    "        for t in clusters[c]:\n",
    "            for diagnose in t:\n",
    "                if diagnose in trajectory:\n",
    "                    try:\n",
    "                        scores[diagnose] += 1\n",
    "                    except:\n",
    "                        scores[diagnose] = 1\n",
    "                    \n",
    "        scores = {k:v for (k,v) in scores.items() if v >= 2} #len(clusters[c]) - 3\n",
    "        clean_trajectories[c] = list(scores.keys())\n",
    "    \n",
    "    return clean_trajectories\n",
    "    \n",
    "def get_trajectories(sections, motive_limit = (2, 100)):\n",
    "    counts = get_counts(sections)\n",
    "    motive = create_motive(counts, motive_limit[0], motive_limit[1])\n",
    "    trajectories = find_most_frequently_used_together_diagnoses(sections, motive)\n",
    "    clusters = cluster_trajectories(trajectories)\n",
    "    clean_trajectories = clean_clusters_trajectories(clusters, trajectories)\n",
    "    \n",
    "    return clusters, clean_trajectories\n",
    "\n"
   ]
  },
  {
   "cell_type": "code",
   "execution_count": null,
   "id": "146ced5c",
   "metadata": {},
   "outputs": [],
   "source": [
    "clusters, trajectories = get_trajectories(sections)"
   ]
  },
  {
   "cell_type": "code",
   "execution_count": null,
   "id": "bcbd19d7",
   "metadata": {},
   "outputs": [],
   "source": [
    "### Comparing how similar are the trajectories to the ones used as signal\n",
    "hits = {}\n",
    "for (i, t) in enumerate(trajectories):\n",
    "    for (j, c_t) in enumerate(control_trajectories):\n",
    "        score = get_local_alignment(trajectories[t], c_t)\n",
    "        try:\n",
    "            hits[score] += 1\n",
    "        except:\n",
    "            hits[score] = 1\n",
    "hits"
   ]
  },
  {
   "cell_type": "code",
   "execution_count": null,
   "id": "68d478e9",
   "metadata": {},
   "outputs": [],
   "source": [
    "### Comparing all possible trajectories against the signal\n",
    "all_trajectories = [[t[0] for t in sections[s]] for s in sections]\n",
    "all_hits = {}\n",
    "for (i, t) in enumerate(all_trajectories):\n",
    "    for (j, c_t) in enumerate(control_trajectories):\n",
    "        score = get_local_alignment(t, c_t)\n",
    "        try:\n",
    "            all_hits[score] += 1\n",
    "        except:\n",
    "            all_hits[score] = 1\n",
    "all_hits"
   ]
  },
  {
   "cell_type": "code",
   "execution_count": null,
   "id": "1b1551ac",
   "metadata": {},
   "outputs": [],
   "source": [
    "### Comparing how similar are trajectories in the same cluster\n",
    "similarity_scores = {}\n",
    "no_trajectories = 0\n",
    "\n",
    "for c in clusters:\n",
    "    if len(trajectories[c]) >= 3:\n",
    "        no_trajectories += 1\n",
    "        score = 0\n",
    "        pairs = list(itertools.combinations(clusters[c], 2))\n",
    "        for pair in pairs:\n",
    "            score += get_local_alignment(pair[0], pair[1])\n",
    "        similarity_scores[c] = score / len(pairs)\n",
    "    \n",
    "sum(similarity_scores.values()) / len(similarity_scores)"
   ]
  },
  {
   "cell_type": "code",
   "execution_count": null,
   "id": "04464870",
   "metadata": {},
   "outputs": [],
   "source": [
    "no_trajectories"
   ]
  },
  {
   "cell_type": "code",
   "execution_count": null,
   "id": "f558e59b",
   "metadata": {},
   "outputs": [],
   "source": [
    "### Comparing how similar are trajectories overall\n",
    "score = 0\n",
    "all_pairs = list(itertools.combinations(sections, 2))\n",
    "for pair in tqdm(all_pairs, desc='Finding similarity in all pairs...'):\n",
    "    score += get_local_alignment(sections[pair[0]], sections[pair[1]])\n",
    "\n",
    "score / len(all_pairs)"
   ]
  }
 ],
 "metadata": {
  "kernelspec": {
   "display_name": "Python 3",
   "language": "python",
   "name": "python3"
  },
  "language_info": {
   "codemirror_mode": {
    "name": "ipython",
    "version": 3
   },
   "file_extension": ".py",
   "mimetype": "text/x-python",
   "name": "python",
   "nbconvert_exporter": "python",
   "pygments_lexer": "ipython3",
   "version": "3.9.6"
  }
 },
 "nbformat": 4,
 "nbformat_minor": 5
}
